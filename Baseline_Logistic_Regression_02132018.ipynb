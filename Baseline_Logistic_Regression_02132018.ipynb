{
 "cells": [
  {
   "cell_type": "markdown",
   "metadata": {},
   "source": [
    "# Capstone 1 -- Baseline Logististic Regression\n",
    "## Drug consumption (quantified) Data Set\n",
    "## Alissa Mezzacappa -- 2/13/2018\n",
    "To Do:\n",
    "1. Baseline regression of personality attributes of population that use Cannabis in the past month but never used Heroin.\n",
    "2. Baseline regression of personality attributes of population that use Heroin ever.\n",
    "\n",
    "__Import packages. Import data. Perform data wrangling. Run baseline regression for 1. & 2.__"
   ]
  },
  {
   "cell_type": "code",
   "execution_count": 3,
   "metadata": {
    "collapsed": true
   },
   "outputs": [],
   "source": [
    "import pandas as pd\n",
    "import urllib\n",
    "import re\n",
    "from sklearn.model_selection import train_test_split\n",
    "from sklearn.linear_model import LogisticRegression\n",
    "from sklearn.metrics import accuracy_score\n"
   ]
  },
  {
   "cell_type": "code",
   "execution_count": 16,
   "metadata": {
    "collapsed": false
   },
   "outputs": [],
   "source": [
    "u=urllib.urlopen('http://archive.ics.uci.edu/ml/datasets/Drug+consumption+%28quantified%29')\n",
    "text=u.read()\n",
    "\n",
    "matches=re.findall(r\"\\d+\\.\\s\\w+\", text)\n",
    "del(matches[0:3])\n",
    "del(matches[12])\n",
    "for i in range(0, len(matches)):\n",
    "    matches[i]=re.sub(r\"\\d+\\.\\s\",\"\",matches[i])\n",
    "url = \"http://archive.ics.uci.edu/ml/machine-learning-databases/00373/drug_consumption.data\"\n",
    "data = pd.read_csv(url,names=matches) #import data"
   ]
  },
  {
   "cell_type": "code",
   "execution_count": 33,
   "metadata": {
    "collapsed": false
   },
   "outputs": [],
   "source": [
    "#Canabis in last month but never heroin -- last_month=['CL4','CL5','CL6'] -- never=['CL0']\n",
    "X=data[['Nscore','Escore','Oscore','Ascore','Cscore','Impulsive','SS']].values\n",
    "cnhY=((data.Heroin=='CL0')&(data.Cannabis=='CL4')|(data.Cannabis=='CL5')|(data.Cannabis=='CL6')).values"
   ]
  },
  {
   "cell_type": "code",
   "execution_count": 34,
   "metadata": {
    "collapsed": false
   },
   "outputs": [
    {
     "name": "stdout",
     "output_type": "stream",
     "text": [
      "0.718220338983\n"
     ]
    }
   ],
   "source": [
    "# Split the data into a training and test set.\n",
    "Xlr, Xtestlr, ylr, ytestlr = train_test_split(cnhX,cnhY,random_state=5)\n",
    "\n",
    "clf = LogisticRegression()\n",
    "# Fit the model on the trainng data.\n",
    "clf.fit(Xlr, ylr)\n",
    "# Print the accuracy from the testing data.\n",
    "print(accuracy_score(clf.predict(Xtestlr), ytestlr))\n"
   ]
  },
  {
   "cell_type": "markdown",
   "metadata": {},
   "source": [
    "This doesn't seem so great."
   ]
  },
  {
   "cell_type": "code",
   "execution_count": 31,
   "metadata": {
    "collapsed": true
   },
   "outputs": [],
   "source": [
    "#heroin last month\n",
    "X=data[['Nscore','Escore','Oscore','Ascore','Cscore','Impulsive','SS']].values\n",
    "yhY=(data.Heroin!='CL0').values"
   ]
  },
  {
   "cell_type": "code",
   "execution_count": 32,
   "metadata": {
    "collapsed": false
   },
   "outputs": [
    {
     "name": "stdout",
     "output_type": "stream",
     "text": [
      "0.879237288136\n"
     ]
    }
   ],
   "source": [
    "# Split the data into a training and test set.\n",
    "Xlr, Xtestlr, ylr, ytestlr = train_test_split(X,yhY,random_state=5)\n",
    "\n",
    "clf = LogisticRegression()\n",
    "# Fit the model on the trainng data.\n",
    "clf.fit(Xlr, ylr)\n",
    "# Print the accuracy from the testing data.\n",
    "print(accuracy_score(clf.predict(Xtestlr), ytestlr))\n"
   ]
  },
  {
   "cell_type": "markdown",
   "metadata": {},
   "source": [
    "This model is doing better."
   ]
  }
 ],
 "metadata": {
  "kernelspec": {
   "display_name": "Python 2",
   "language": "python",
   "name": "python2"
  },
  "language_info": {
   "codemirror_mode": {
    "name": "ipython",
    "version": 2
   },
   "file_extension": ".py",
   "mimetype": "text/x-python",
   "name": "python",
   "nbconvert_exporter": "python",
   "pygments_lexer": "ipython2",
   "version": "2.7.13"
  }
 },
 "nbformat": 4,
 "nbformat_minor": 2
}
